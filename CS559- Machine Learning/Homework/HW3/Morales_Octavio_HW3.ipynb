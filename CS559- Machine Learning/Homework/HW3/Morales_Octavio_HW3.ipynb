{
 "cells": [
  {
   "cell_type": "markdown",
   "metadata": {},
   "source": [
    "Octavio: I pledge my honor that I have abided by the Stevens Honor System."
   ]
  },
  {
   "cell_type": "markdown",
   "metadata": {},
   "source": [
    "Once again, the same sources were used, in addition to the class notes."
   ]
  },
  {
   "cell_type": "markdown",
   "metadata": {},
   "source": [
    "1 Naive Bayes Classification [40 pts]\n",
    "Use the following code to generate the train data set. The code will generate a random data set with four features and classes."
   ]
  },
  {
   "cell_type": "markdown",
   "metadata": {},
   "source": [
    "Importing Modules:"
   ]
  },
  {
   "cell_type": "code",
   "execution_count": 31,
   "metadata": {},
   "outputs": [],
   "source": [
    "from sklearn import datasets\n",
    "import numpy\n",
    "from scipy.stats import norm\n",
    "from sklearn.naive_bayes import GaussianNB\n",
    "from sklearn.metrics import accuracy_score"
   ]
  },
  {
   "cell_type": "markdown",
   "metadata": {},
   "source": [
    "a. [5 pts] Compute the prior probability of each class, p(Ck)."
   ]
  },
  {
   "cell_type": "code",
   "execution_count": 32,
   "metadata": {},
   "outputs": [
    {
     "name": "stdout",
     "output_type": "stream",
     "text": [
      "Prior Probabilities:  [0.25 0.25 0.25 0.25]\n"
     ]
    }
   ],
   "source": [
    "X, y = datasets.make_blobs(n_samples=400, n_features=5, centers=4, cluster_std=2, random_state=100)\n",
    "pri = numpy.bincount(y) / len(y)\n",
    "print('Prior Probabilities: ', pri)"
   ]
  },
  {
   "cell_type": "markdown",
   "metadata": {},
   "source": [
    "b. [10 pts] Compute the likelihood p(X|Ck)."
   ]
  },
  {
   "cell_type": "code",
   "execution_count": 33,
   "metadata": {},
   "outputs": [
    {
     "name": "stdout",
     "output_type": "stream",
     "text": [
      "Likelihoods p(X|Ck):  [[4.35737431e-19 5.83470609e-36 1.65617426e-23 6.68636482e-05]\n",
      " [3.37890351e-18 3.74816408e-29 3.43372487e-07 1.15217600e-30]\n",
      " [1.51666045e-04 1.60401115e-28 6.93442926e-23 4.77305265e-19]\n",
      " ...\n",
      " [2.08939633e-19 9.37365394e-30 4.84965368e-20 1.96815445e-05]\n",
      " [3.42781461e-17 4.61639896e-28 1.82075584e-04 2.58663455e-21]\n",
      " [8.88281347e-16 1.19706820e-26 1.16782062e-15 5.94553837e-06]]\n"
     ]
    }
   ],
   "source": [
    "clas1 = numpy.unique(y)\n",
    "m = numpy.zeros((len(clas1), X.shape[1]))\n",
    "\n",
    "for x, c in enumerate(clas1):\n",
    "    m[x] = X[y == c].mean(axis=0)\n",
    "\n",
    "clas2 = numpy.unique(y)\n",
    "vari = numpy.zeros((len(clas2), X.shape[1]))\n",
    "\n",
    "for x, c in enumerate(clas2):\n",
    "    vari[x] = X[y == c].var(axis=0)\n",
    "\n",
    "cList = numpy.zeros((X.shape[0], len(numpy.unique(y))))\n",
    "\n",
    "for c in numpy.unique(y):\n",
    "    cList[:, c] = norm(m[c], numpy.sqrt(vari[c])).pdf(X).prod(axis=1)\n",
    "\n",
    "print('Likelihoods p(X|Ck): ', cList)"
   ]
  },
  {
   "cell_type": "markdown",
   "metadata": {},
   "source": [
    "c. [15 pts] Compute the posterior probability of each point p(Ck|X). Assign the class ID to each point."
   ]
  },
  {
   "cell_type": "code",
   "execution_count": 34,
   "metadata": {},
   "outputs": [
    {
     "name": "stdout",
     "output_type": "stream",
     "text": [
      "Posterior Probabilities:  [[1.08934358e-19 1.45867652e-36 4.14043566e-24 1.67159121e-05]\n",
      " [8.44725876e-19 9.37041019e-30 8.58431217e-08 2.88043999e-31]\n",
      " [3.79165112e-05 4.01002788e-29 1.73360732e-23 1.19326316e-19]\n",
      " ...\n",
      " [5.22349081e-20 2.34341348e-30 1.21241342e-20 4.92038613e-06]\n",
      " [8.56953653e-18 1.15409974e-28 4.55188961e-05 6.46658639e-22]\n",
      " [2.22070337e-16 2.99267050e-27 2.91955156e-16 1.48638459e-06]]\n",
      "\n",
      "Class Assignments:  [3 2 0 3 3 1 3 1 2 2 0 2 2 3 0 3 2 3 1 2 2 1 1 3 1 3 1 0 2 0 2 3 0 0 3 0 1\n",
      " 1 1 2 1 3 2 0 0 3 3 2 3 1 3 1 2 2 3 1 0 1 3 2 2 0 3 1 1 0 3 2 1 0 1 2 1 2\n",
      " 0 0 1 1 2 0 0 1 1 0 1 0 0 3 2 1 1 3 3 0 2 1 3 2 3 1 2 2 1 1 1 1 2 3 2 3 1\n",
      " 3 0 3 2 2 1 1 1 3 1 3 0 3 0 2 1 3 3 2 3 2 3 0 2 2 2 3 1 3 2 0 0 0 0 2 3 1\n",
      " 3 0 0 1 3 1 2 0 0 3 0 3 1 0 0 2 0 3 1 2 2 3 0 0 3 1 1 0 3 0 0 0 1 0 1 0 1\n",
      " 0 3 2 1 2 2 0 1 3 2 3 3 0 3 2 0 0 1 3 0 3 3 2 1 3 0 1 2 2 3 1 2 1 2 3 1 0\n",
      " 1 3 1 0 0 1 0 0 3 0 1 0 3 1 3 3 0 0 1 3 0 0 2 1 2 2 0 3 0 0 1 3 3 2 0 0 1\n",
      " 2 2 1 3 0 2 1 3 3 2 1 0 2 0 0 3 3 2 0 3 2 2 3 2 2 1 0 3 0 1 2 0 3 1 1 2 2\n",
      " 0 0 2 3 1 0 2 0 0 1 0 1 1 3 2 0 1 3 3 1 3 2 2 3 2 1 1 1 1 2 2 3 2 0 0 2 2\n",
      " 0 1 1 0 1 2 1 3 1 2 0 0 1 0 3 3 2 2 2 2 0 3 2 3 2 1 3 2 1 1 2 2 2 3 2 2 0\n",
      " 2 0 2 0 1 2 0 3 1 3 2 1 3 3 3 3 0 3 1 0 1 0 0 2 3 1 1 3 2 3]\n"
     ]
    }
   ],
   "source": [
    "pp= cList*pri\n",
    "ca= numpy.argmax(pp, axis=1)\n",
    "print('Posterior Probabilities: ', pp)\n",
    "print('')\n",
    "print('Class Assignments: ', ca)"
   ]
  },
  {
   "cell_type": "markdown",
   "metadata": {},
   "source": [
    "d. [5 pts] Construct the confusion matrix to show the classification rate."
   ]
  },
  {
   "cell_type": "code",
   "execution_count": 35,
   "metadata": {},
   "outputs": [
    {
     "name": "stdout",
     "output_type": "stream",
     "text": [
      "Confusion Matrix:  [3 2 0 3 3 1 3 1 2 2 0 2 2 3 0 3 2 3 1 2 2 1 1 3 1 3 1 0 2 0 2 3 0 0 3 0 1\n",
      " 1 1 2 1 3 2 0 0 3 3 2 3 1 3 1 2 2 3 1 0 1 3 2 2 0 3 1 1 0 3 2 1 0 1 2 1 2\n",
      " 0 0 1 1 2 0 0 1 1 0 1 0 0 3 2 1 1 3 3 0 2 1 3 2 3 1 2 2 1 1 1 1 2 3 2 3 1\n",
      " 3 0 3 2 2 1 1 1 3 1 3 0 3 0 2 1 3 3 2 3 2 3 0 2 2 2 3 1 3 2 0 0 0 0 2 3 1\n",
      " 3 0 0 1 3 1 2 0 0 3 0 3 1 0 0 2 0 3 1 2 2 3 0 0 3 1 1 0 3 0 0 0 1 0 1 0 1\n",
      " 0 3 2 1 2 2 0 1 3 2 3 3 0 3 2 0 0 1 3 0 3 3 2 1 3 0 1 2 2 3 1 2 1 2 3 1 0\n",
      " 1 3 1 0 0 1 0 0 3 0 1 0 3 1 3 3 0 0 1 3 0 0 2 1 2 2 0 3 0 0 1 3 3 2 0 0 1\n",
      " 2 2 1 3 0 2 1 3 3 2 1 0 2 0 0 3 3 2 0 3 2 2 3 2 2 1 0 3 0 1 2 0 3 1 1 2 2\n",
      " 0 0 2 3 1 0 2 0 0 1 0 1 1 3 2 0 1 3 3 1 3 2 2 3 2 1 1 1 1 2 2 3 2 0 0 2 2\n",
      " 0 1 1 0 1 2 1 3 1 2 0 0 1 0 3 3 2 2 2 2 0 3 2 3 2 1 3 2 1 1 2 2 2 3 2 2 0\n",
      " 2 0 2 0 1 2 0 3 1 3 2 1 3 3 3 3 0 3 1 0 1 0 0 2 3 1 1 3 2 3]\n"
     ]
    }
   ],
   "source": [
    "print('Confusion Matrix: ', ca)"
   ]
  },
  {
   "cell_type": "markdown",
   "metadata": {},
   "source": [
    "e. [5 pts] Classify the target using sklearn.native bayes.GaussianNB. Report the accuracy of the model."
   ]
  },
  {
   "cell_type": "code",
   "execution_count": 36,
   "metadata": {},
   "outputs": [
    {
     "name": "stdout",
     "output_type": "stream",
     "text": [
      "Model Accuracy: 1.00\n"
     ]
    }
   ],
   "source": [
    "model = GaussianNB()\n",
    "model.fit(X, y)\n",
    "predicted = model.predict(X)\n",
    "\n",
    "acc = accuracy_score(y, predicted)\n",
    "print(\"Model Accuracy:\", \"{:.2f}\".format(acc))\n"
   ]
  }
 ],
 "metadata": {
  "kernelspec": {
   "display_name": "Python 3",
   "language": "python",
   "name": "python3"
  },
  "language_info": {
   "codemirror_mode": {
    "name": "ipython",
    "version": 3
   },
   "file_extension": ".py",
   "mimetype": "text/x-python",
   "name": "python",
   "nbconvert_exporter": "python",
   "pygments_lexer": "ipython3",
   "version": "3.12.1"
  }
 },
 "nbformat": 4,
 "nbformat_minor": 2
}
