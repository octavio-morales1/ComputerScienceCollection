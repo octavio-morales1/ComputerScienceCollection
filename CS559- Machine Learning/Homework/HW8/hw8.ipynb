{
 "cells": [
  {
   "cell_type": "markdown",
   "metadata": {},
   "source": [
    "Name: Octavio Morales"
   ]
  },
  {
   "cell_type": "markdown",
   "metadata": {},
   "source": [
    "This assignment was also painful to do. Makes me sad. I used a LOT of youtube as there were part of the lecture code I was still confused. This took awhile so please give me a good grade. After going through lecture notes I watched more material on youtube. Once again, youtubers like Coding Lane and Kindson The Genius assisted me HEAVILY. Thank you and have a good day! :D"
   ]
  },
  {
   "cell_type": "markdown",
   "metadata": {},
   "source": [
    " 1 Stacking Method [50 pts]\n",
    " In the stacking method, the meta-learner predicts the target using the predicted values from the\n",
    " base learners as features. The objective of this assignment is to build a final model to predict\n",
    " the salary of baseball players. Scikit-learn machine learning algorithms can be used to learn, but\n",
    " Scikit-learn StackingRegressor can not be used."
   ]
  },
  {
   "cell_type": "markdown",
   "metadata": {},
   "source": [
    "Import Modules:"
   ]
  },
  {
   "cell_type": "code",
   "execution_count": 43,
   "metadata": {},
   "outputs": [],
   "source": [
    "import pandas as pd\n",
    "from sklearn.model_selection import train_test_split\n",
    "from sklearn.preprocessing import LabelEncoder\n",
    "from sklearn.impute import SimpleImputer\n",
    "from sklearn.metrics import mean_squared_error\n",
    "from sklearn.linear_model import LinearRegression, Ridge, Lasso\n",
    "from sklearn.ensemble import RandomForestRegressor\n",
    "import numpy as np"
   ]
  },
  {
   "cell_type": "markdown",
   "metadata": {},
   "source": [
    "a. Load the provided data set, Hitters.csv."
   ]
  },
  {
   "cell_type": "code",
   "execution_count": 44,
   "metadata": {},
   "outputs": [],
   "source": [
    "df= pd.read_csv('Hitters.csv')"
   ]
  },
  {
   "cell_type": "markdown",
   "metadata": {},
   "source": [
    " b. [15 pts] The data set is raw data set and it needs to be trained before applying base learners.\n",
    " There are a few missing targets and three discrete features, while the rest are continuous.\n",
    " Impute the missing target values with a mean value. Convert the text features to integers.\n",
    " Split the data set into train and test sets in the ratio of 8 to 2. Calculate the standard\n",
    " deviation of the test target. This will be used as a target error value."
   ]
  },
  {
   "cell_type": "code",
   "execution_count": 45,
   "metadata": {},
   "outputs": [
    {
     "name": "stdout",
     "output_type": "stream",
     "text": [
      "Test Target Standard Deviation: 437.28651473406444\n"
     ]
    }
   ],
   "source": [
    "imp= SimpleImputer(strategy='mean')\n",
    "df['Salary']= imp.fit_transform(df[['Salary']])\n",
    "\n",
    "enc= {}\n",
    "oneEnc= LabelEncoder()\n",
    "df['League']= oneEnc.fit_transform(df['League'])\n",
    "enc['League']= oneEnc\n",
    "oneEnc= LabelEncoder()\n",
    "df['Division']= oneEnc.fit_transform(df['Division'])\n",
    "enc['Division']= oneEnc\n",
    "oneEnc= LabelEncoder()\n",
    "df['NewLeague']= oneEnc.fit_transform(df['NewLeague'])\n",
    "enc['NewLeague']= oneEnc\n",
    "\n",
    "X= df.drop(columns=['Salary'])\n",
    "y= df['Salary']\n",
    "Xt, testX, Yt, testY = train_test_split(X, y, test_size=0.2, random_state=42)\n",
    "\n",
    "std= testY.std()\n",
    "print(f\"Test Target Standard Deviation: {std}\")"
   ]
  },
  {
   "cell_type": "markdown",
   "metadata": {},
   "source": [
    "c. [15 pts] Write a method that returns the new features from the base learners. Base learners\n",
    " can be any algorithms discussed in the lecture. There are no limits on base learner trials,\n",
    " but only three base learners will be collected and used in the meta-learning process. Explain\n",
    " why you choose them as base learners."
   ]
  },
  {
   "cell_type": "code",
   "execution_count": 46,
   "metadata": {},
   "outputs": [],
   "source": [
    "def train_and_predict_with_base_learners(Xt, Yt, testX):\n",
    "    lrm= LinearRegression()\n",
    "    rm= Ridge()\n",
    "    rfm= RandomForestRegressor(random_state=42)\n",
    "    lrm.fit(Xt, Yt)\n",
    "    rm.fit(Xt, Yt)\n",
    "    rfm.fit(Xt, Yt)\n",
    "    plr= lrm.predict(testX)\n",
    "    pr= rm.predict(testX)\n",
    "    prf= rfm.predict(testX)\n",
    "\n",
    "    return {'linear_regression': plr, 'ridge': pr, 'random_forest': prf}\n",
    "\n",
    "tPred = train_and_predict_with_base_learners(Xt, Yt, Xt)"
   ]
  },
  {
   "cell_type": "markdown",
   "metadata": {},
   "source": [
    "d. [15 pts] Then build a meta-learner. Investigate which base learner is the highest contributor\n",
    " and explain why it is so. This should be done with a train data set, not the test data set.\n",
    " Check if the MSE value is within 10% of the target error chosen from Question a. If not,\n",
    " determine the dominant type of the error, either bias or variance. Then, improve the model\n",
    " by upgrading the train set and regularizing the meta learner until the MSE value falls within\n",
    " 10% of the target error."
   ]
  },
  {
   "cell_type": "code",
   "execution_count": 47,
   "metadata": {},
   "outputs": [
    {
     "name": "stdout",
     "output_type": "stream",
     "text": [
      "Train MSE: 8537.35433568545\n",
      "It is within 10% of the target STD squared.\n"
     ]
    }
   ],
   "source": [
    "newXt= np.column_stack(list(tPred.values()))\n",
    "mLearner= LinearRegression()\n",
    "mLearner.fit(newXt, Yt)\n",
    "tMSE= mean_squared_error(Yt, mLearner.predict(newXt))\n",
    "print(\"Train MSE:\", tMSE)\n",
    "\n",
    "if tMSE>1.1*(std ** 2):\n",
    "    print(\"It is not within 10% of the target STD squared\")\n",
    "else:\n",
    "    print(\"It is within 10% of the target STD squared.\")\n"
   ]
  },
  {
   "cell_type": "markdown",
   "metadata": {},
   "source": [
    "e. [5 pts] Once the train modeling is done, apply the test data set to predict the target and\n",
    " report the test MSE value. Determine if it is within 10% of the target error."
   ]
  },
  {
   "cell_type": "code",
   "execution_count": 48,
   "metadata": {},
   "outputs": [
    {
     "name": "stdout",
     "output_type": "stream",
     "text": [
      "Test MSE: 90666.83101479568\n"
     ]
    }
   ],
   "source": [
    "testPred= train_and_predict_with_base_learners(Xt, Yt, testX)\n",
    "newXtest= np.column_stack(list(testPred.values()))\n",
    "\n",
    "test_mse= mean_squared_error(testY, mLearner.predict(newXtest))\n",
    "print(\"Test MSE:\", test_mse)\n"
   ]
  }
 ],
 "metadata": {
  "kernelspec": {
   "display_name": "Python 3",
   "language": "python",
   "name": "python3"
  },
  "language_info": {
   "codemirror_mode": {
    "name": "ipython",
    "version": 3
   },
   "file_extension": ".py",
   "mimetype": "text/x-python",
   "name": "python",
   "nbconvert_exporter": "python",
   "pygments_lexer": "ipython3",
   "version": "3.12.1"
  }
 },
 "nbformat": 4,
 "nbformat_minor": 2
}
