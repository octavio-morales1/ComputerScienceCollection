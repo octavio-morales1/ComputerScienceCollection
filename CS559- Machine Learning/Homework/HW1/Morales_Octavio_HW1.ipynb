{
 "cells": [
  {
   "cell_type": "markdown",
   "metadata": {},
   "source": [
    "Octavio Morales:\n",
    "I pledge my honor that I have abided by the Stevens Honor System."
   ]
  },
  {
   "cell_type": "markdown",
   "metadata": {},
   "source": [
    "Before this code gets looked through, you mentioned to cite any sources used. Although there isn't plagiarism, there are a LOT of tutorials online that helped me have a better understanding of this assignment, like the modules used. There are countless sources that I could mention, but some notable ones are geeksforgeeks.org, Corey Schafer (Youtube), freeCodeCamp.org (Youtube), Simplilearn (Youtube), and Intellipaat (Youtube)"
   ]
  },
  {
   "cell_type": "markdown",
   "metadata": {},
   "source": [
    "Question 1"
   ]
  },
  {
   "cell_type": "markdown",
   "metadata": {},
   "source": [
    "Libraries"
   ]
  },
  {
   "cell_type": "code",
   "execution_count": 5,
   "metadata": {},
   "outputs": [],
   "source": [
    "import pandas as pd\n",
    "import numpy as np\n",
    "import matplotlib.pyplot as plt\n",
    "from sklearn.model_selection import train_test_split\n",
    "from sklearn.linear_model import LinearRegression\n",
    "from sklearn.metrics import mean_squared_error\n",
    "from sklearn.preprocessing import StandardScaler\n"
   ]
  },
  {
   "cell_type": "markdown",
   "metadata": {},
   "source": [
    "Part a) [25 pts] Perform pre-processing and EDA on the data and split it into training and testing datasets. Have a split ratio of 75% and 25% for the training and testing datasets, respectively. Please explain the performance. Students can make visualizations if necessary.\n"
   ]
  },
  {
   "cell_type": "code",
   "execution_count": 6,
   "metadata": {},
   "outputs": [
    {
     "name": "stdout",
     "output_type": "stream",
     "text": [
      "No                                        0\n",
      "X1 transaction date                       0\n",
      "X2 house age                              0\n",
      "X3 distance to the nearest MRT station    0\n",
      "X4 number of convenience stores           0\n",
      "X5 latitude                               0\n",
      "X6 longitude                              0\n",
      "Y house price of unit area                0\n",
      "dtype: int64\n",
      "\n",
      "               No  X1 transaction date  X2 house age  \\\n",
      "count  414.000000           414.000000    414.000000   \n",
      "mean   207.500000          2013.148971     17.712560   \n",
      "std    119.655756             0.281967     11.392485   \n",
      "min      1.000000          2012.667000      0.000000   \n",
      "25%    104.250000          2012.917000      9.025000   \n",
      "50%    207.500000          2013.167000     16.100000   \n",
      "75%    310.750000          2013.417000     28.150000   \n",
      "max    414.000000          2013.583000     43.800000   \n",
      "\n",
      "       X3 distance to the nearest MRT station  \\\n",
      "count                              414.000000   \n",
      "mean                              1083.885689   \n",
      "std                               1262.109595   \n",
      "min                                 23.382840   \n",
      "25%                                289.324800   \n",
      "50%                                492.231300   \n",
      "75%                               1454.279000   \n",
      "max                               6488.021000   \n",
      "\n",
      "       X4 number of convenience stores  X5 latitude  X6 longitude  \\\n",
      "count                       414.000000   414.000000    414.000000   \n",
      "mean                          4.094203    24.969030    121.533361   \n",
      "std                           2.945562     0.012410      0.015347   \n",
      "min                           0.000000    24.932070    121.473530   \n",
      "25%                           1.000000    24.963000    121.528085   \n",
      "50%                           4.000000    24.971100    121.538630   \n",
      "75%                           6.000000    24.977455    121.543305   \n",
      "max                          10.000000    25.014590    121.566270   \n",
      "\n",
      "       Y house price of unit area  \n",
      "count                  414.000000  \n",
      "mean                    37.980193  \n",
      "std                     13.606488  \n",
      "min                      7.600000  \n",
      "25%                     27.700000  \n",
      "50%                     38.450000  \n",
      "75%                     46.600000  \n",
      "max                    117.500000  \n",
      "\n"
     ]
    },
    {
     "data": {
      "image/png": "[encoded data removed]",
      "text/plain": [
       "<Figure size 640x480 with 1 Axes>"
      ]
     },
     "metadata": {},
     "output_type": "display_data"
    }
   ],
   "source": [
    "def load_and_preprocess_data(filepath):\n",
    "    data = pd.read_csv(filepath)\n",
    "    print(data.isnull().sum())\n",
    "    print()\n",
    "    print(data.describe())\n",
    "    print()\n",
    "    return data\n",
    "\n",
    "def visualize_data(data):\n",
    "    plt.hist(data['Y house price of unit area'], bins=30, edgecolor='black')\n",
    "    plt.title('Distribution of House Prices')\n",
    "    plt.xlabel('House Price of Unit Area')\n",
    "    plt.ylabel('Frequency')\n",
    "    plt.show()\n",
    "\n",
    "filepath = 'Real estate.csv'  # Adjust the filepath to your dataset\n",
    "data = load_and_preprocess_data(filepath)\n",
    "visualize_data(data)\n"
   ]
  },
  {
   "cell_type": "markdown",
   "metadata": {},
   "source": [
    "Splitting the data into training and testing sets"
   ]
  },
  {
   "cell_type": "code",
   "execution_count": 7,
   "metadata": {},
   "outputs": [],
   "source": [
    "def split_data(data):\n",
    "    X = data.drop(['No', 'Y house price of unit area'], axis=1)\n",
    "    y = data['Y house price of unit area']\n",
    "    return train_test_split(X, y, test_size=0.25)\n",
    "\n",
    "xT, testX, yT, testY = split_data(data)\n"
   ]
  },
  {
   "cell_type": "code",
   "execution_count": 8,
   "metadata": {},
   "outputs": [],
   "source": [
    "def helpME(xT, testX):\n",
    "    scaler = StandardScaler()\n",
    "    xtScaled = scaler.fit_transform(xT)\n",
    "    testXScaled = scaler.transform(testX)\n",
    "    return xtScaled, testXScaled\n",
    "\n",
    "xtScaled, testXScaled = helpME(xT, testX)"
   ]
  },
  {
   "cell_type": "markdown",
   "metadata": {},
   "source": [
    "Part b) [35 pts] Define a function linear regression model that takes the learning rate = 0.05 and iteration = 1000. This model will perform SGD. You can initialize random weights using NumPy. Report the mean squared error (MSE). This model is going to return the learned weights. \n",
    "\n",
    "SGD Linear Regression Function"
   ]
  },
  {
   "cell_type": "code",
   "execution_count": 9,
   "metadata": {},
   "outputs": [],
   "source": [
    "def sgd_linear_regression(X, y, learning_rate=0.05, iterations=1000, max_grad=1.0):\n",
    "    m, n = X.shape\n",
    "    xB = np.c_[np.ones((m, 1)), X] \n",
    "    weights = np.random.randn(n + 1, 1) * 0.01\n",
    "    \n",
    "    for iteration in range(iterations):\n",
    "        shuffled = np.random.permutation(m)\n",
    "        X_b_shuffled = xB[shuffled]\n",
    "        y_shuffled = y[shuffled]\n",
    "        for spot in range(m):\n",
    "            ySpot = y_shuffled[spot:spot+1]\n",
    "            xSpot = X_b_shuffled[spot:spot+1]\n",
    "            grad = 2 * xSpot.T.dot(xSpot.dot(weights) - ySpot)\n",
    "            grad = np.clip(grad, -max_grad, max_grad)\n",
    "            weights = weights - learning_rate * grad\n",
    "    return weights\n",
    "\n",
    "weights = sgd_linear_regression(xtScaled, yT.values.reshape(-1, 1))"
   ]
  },
  {
   "cell_type": "markdown",
   "metadata": {},
   "source": [
    "Getting Mean Squared Error (MSE)"
   ]
  },
  {
   "cell_type": "code",
   "execution_count": 10,
   "metadata": {},
   "outputs": [
    {
     "name": "stdout",
     "output_type": "stream",
     "text": [
      "MSE: 63.832322178744235\n",
      "\n"
     ]
    },
    {
     "data": {
      "text/plain": [
       "(array([[36.59292665],\n",
       "        [ 0.63752743],\n",
       "        [-3.6968824 ],\n",
       "        [-7.92480643],\n",
       "        [ 2.8146998 ],\n",
       "        [ 3.92331306],\n",
       "        [-0.17413796]]),\n",
       " 63.832322178744235)"
      ]
     },
     "execution_count": 10,
     "metadata": {},
     "output_type": "execute_result"
    }
   ],
   "source": [
    "def train_and_evaluate(xtScaled, yT, testXScaled, testY, learning_rate=0.001):\n",
    "    yTChange = yT.values.reshape(-1, 1)\n",
    "    weights = sgd_linear_regression(xtScaled, yTChange, learning_rate)\n",
    "    y_pred = np.dot(np.c_[np.ones((testXScaled.shape[0], 1)), testXScaled], weights)\n",
    "    mse = np.mean((testY.values.reshape(-1, 1) - y_pred) ** 2)\n",
    "    print(f'MSE: {mse}')\n",
    "    print()\n",
    "    return weights, mse\n",
    "\n",
    "train_and_evaluate(xtScaled, yT, testXScaled, testY)"
   ]
  },
  {
   "cell_type": "markdown",
   "metadata": {},
   "source": [
    "Part c) [15 pts] Use different learning rate values to retrain the model. \n",
    "a.\tLearning rates = [5E-3, 1E-2, 1E-1, 5E-1]\n",
    "b.\tReport the MSE value for each learning rate.\n"
   ]
  },
  {
   "cell_type": "code",
   "execution_count": 11,
   "metadata": {},
   "outputs": [
    {
     "name": "stdout",
     "output_type": "stream",
     "text": [
      "Learning rate: 0.005, MSE: 972.8132879945772\n",
      "Learning rate: 0.01, MSE: 1464.0885092830313\n",
      "Learning rate: 0.1, MSE: 27373.82506100719\n",
      "Learning rate: 0.5, MSE: 1825.8473869308498\n"
     ]
    }
   ],
   "source": [
    "def experiment_with_learning_rates(xT, yT, testX, testY):\n",
    "    learning_rates = [0.005, 0.01, 0.1, 0.5]\n",
    "    for lr in learning_rates:\n",
    "        weights = sgd_linear_regression(xT, yT.values.reshape(-1, 1), learning_rate=lr)\n",
    "        y_pred = np.dot(np.c_[np.ones((testX.shape[0], 1)), testX], weights)\n",
    "        mse = np.mean((testY.values.reshape(-1, 1) - y_pred) ** 2)\n",
    "        print(f'Learning rate: {lr}, MSE: {mse}')\n",
    "experiment_with_learning_rates(xT, yT, testX, testY)\n"
   ]
  },
  {
   "cell_type": "markdown",
   "metadata": {},
   "source": [
    "Part d) [5 pts] Using the final model obtained from c), generalize the model using the test set. Report the mean squared error value. "
   ]
  },
  {
   "cell_type": "code",
   "execution_count": 12,
   "metadata": {},
   "outputs": [
    {
     "name": "stdout",
     "output_type": "stream",
     "text": [
      "MSE: 63.82178329175148\n",
      "\n"
     ]
    }
   ],
   "source": [
    "bestRate = 0.001 \n",
    "newWeights, newMSE = train_and_evaluate(xtScaled, yT, testXScaled, testY, bestRate)"
   ]
  },
  {
   "cell_type": "markdown",
   "metadata": {},
   "source": [
    "Question 2: Scikit-learn linear regression. [20 pts]\n",
    "In this question, students will use the Scikit-learn linear regression model to predict the real estate cost and compare the results in Question 1.\n",
    "a)\t[10 pts] Now import linear regression from Scikit-learn and train the model.\n",
    "b)\t[5 pts] Get the prediction on the test set.\n",
    "c)\t[5 pts] Compare the result of your model to that of the Scikit-learn model.\n"
   ]
  },
  {
   "cell_type": "code",
   "execution_count": 13,
   "metadata": {},
   "outputs": [
    {
     "name": "stdout",
     "output_type": "stream",
     "text": [
      "Custom SGD Model MSE: 63.82178329175148\n",
      "\n",
      "Scikit-learn Model MSE: 57.98043974173679\n",
      "\n",
      "The Scikit-learn model outperforms the custom SGD model.\n"
     ]
    }
   ],
   "source": [
    "def compare_with_sklearn(xT, yT, testX, testY):\n",
    "    '''Question 2 part a'''\n",
    "    lr_model = LinearRegression() \n",
    "    lr_model.fit(xT, yT)\n",
    "\n",
    "    '''Question 2 part b'''\n",
    "    y_pred_sklearn = lr_model.predict(testX)\n",
    "    mse_sklearn = mean_squared_error(testY, y_pred_sklearn)\n",
    "\n",
    "    '''Question 2 part c'''\n",
    "    print(f\"Custom SGD Model MSE: {newMSE}\")\n",
    "    print()\n",
    "    print(f\"Scikit-learn Model MSE: {mse_sklearn}\")\n",
    "    print()\n",
    "    \n",
    "    if newMSE < mse_sklearn:\n",
    "        print(\"The custom SGD model outperforms the Scikit-learn model.\")\n",
    "    elif newMSE > mse_sklearn:\n",
    "        print(\"The Scikit-learn model outperforms the custom SGD model.\")\n",
    "    else:\n",
    "        print(\"Both models perform equally.\")\n",
    "        \n",
    "compare_with_sklearn(xT, yT, testX, testY)"
   ]
  }
 ],
 "metadata": {
  "kernelspec": {
   "display_name": "Python 3",
   "language": "python",
   "name": "python3"
  },
  "language_info": {
   "codemirror_mode": {
    "name": "ipython",
    "version": 3
   },
   "file_extension": ".py",
   "mimetype": "text/x-python",
   "name": "python",
   "nbconvert_exporter": "python",
   "pygments_lexer": "ipython3",
   "version": "3.12.1"
  }
 },
 "nbformat": 4,
 "nbformat_minor": 2
}
